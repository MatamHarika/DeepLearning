{
 "cells": [
  {
   "cell_type": "code",
   "execution_count": 4,
   "id": "146f8033-2b82-4b81-a44c-bfc75b1b8014",
   "metadata": {},
   "outputs": [],
   "source": [
    "import numpy as np\n",
    "import matplotlib.pyplot as plt\n",
    "from tensorflow.keras.datasets import mnist\n",
    "from tensorflow.keras.models import Model\n",
    "from tensorflow.keras.layers import Input, Dense\n",
    "from tensorflow.keras.optimizers import Adam"
   ]
  },
  {
   "cell_type": "code",
   "execution_count": 5,
   "id": "03053519-efc7-4921-bd81-47cfd20e1312",
   "metadata": {},
   "outputs": [],
   "source": [
    "(x_train,_), (x_test,_)=mnist.load_data()\n",
    "x_train=x_train.astype('float32')/255.\n",
    "x_test=x_test.astype('float32')/255.\n",
    "\n",
    "x_train=x_train.reshape((len(x_train), np.prod(x_train.shape[1:])))\n",
    "x_test=x_test.reshape((len(x_test), np.prod(x_test.shape[1:])))"
   ]
  },
  {
   "cell_type": "code",
   "execution_count": 7,
   "id": "1d7ed3a0-07e3-41fd-9f91-7617e0783672",
   "metadata": {},
   "outputs": [],
   "source": [
    "input_dim=x_train.shape[1]\n",
    "encoding_dim=32\n",
    "input_img=Input(shape=(input_dim,))\n",
    "encoded=Dense(encoding_dim,activation='relu')(input_img)\n",
    "decoded=Dense(input_dim, activation='sigmoid')(encoded)\n",
    "autoencoder=Model(input_img,decoded)\n",
    "encoder=Model(input_img,encoded)\n",
    "\n",
    "autoencoder.compile(optimizer=Adam(), loss='binary_crossentropy')"
   ]
  },
  {
   "cell_type": "code",
   "execution_count": 8,
   "id": "9ba4b60b-b20d-4907-9e5e-cec0b7750587",
   "metadata": {},
   "outputs": [
    {
     "name": "stdout",
     "output_type": "stream",
     "text": [
      "Epoch 1/2\n",
      "235/235 [==============================] - 2s 6ms/step - loss: 0.2740 - val_loss: 0.1862\n",
      "Epoch 2/2\n",
      "235/235 [==============================] - 1s 6ms/step - loss: 0.1683 - val_loss: 0.1525\n"
     ]
    },
    {
     "data": {
      "text/plain": [
       "<keras.callbacks.History at 0x2dab8366b20>"
      ]
     },
     "execution_count": 8,
     "metadata": {},
     "output_type": "execute_result"
    }
   ],
   "source": [
    "autoencoder.fit(x_train, x_train, epochs=2, batch_size=256, shuffle=True, validation_data=(x_test,x_test))"
   ]
  },
  {
   "cell_type": "code",
   "execution_count": 9,
   "id": "4b153102-d181-4606-8fcb-8a2d7e97632a",
   "metadata": {},
   "outputs": [
    {
     "name": "stdout",
     "output_type": "stream",
     "text": [
      "313/313 [==============================] - 0s 729us/step\n",
      "313/313 [==============================] - 0s 941us/step\n"
     ]
    }
   ],
   "source": [
    "encoded_imgs=encoder.predict(x_test)\n",
    "decoded_imgs=autoencoder.predict(x_test)"
   ]
  },
  {
   "cell_type": "code",
   "execution_count": 11,
   "id": "4e2c39ce-c428-4a6f-acee-4c9c85003b86",
   "metadata": {},
   "outputs": [
    {
     "data": {
      "image/png": "[encoded data removed]",
      "text/plain": [
       "<Figure size 1800x800 with 3 Axes>"
      ]
     },
     "metadata": {},
     "output_type": "display_data"
    }
   ],
   "source": [
    "n=1\n",
    "plt.figure(figsize=(18,8))\n",
    "for i in range(n):\n",
    "    ax=plt.subplot(3, n, i+1)\n",
    "    plt.imshow(x_test[i].reshape(28,28))\n",
    "    plt.title(\"Original\")\n",
    "    plt.gray()\n",
    "    ax.axis('off')\n",
    "    ax = plt.subplot(3, n, i + 1 + n)\n",
    "    plt.imshow(encoded_imgs[i].reshape(4, 8)) # Reshape for visualization\n",
    "    plt.title(\"Encoded\")\n",
    "    plt.gray()\n",
    "    ax.axis('off')\n",
    "    # Reconstructed images\n",
    "    ax = plt.subplot(3, n, i + 1 + 2 * n)\n",
    "    plt.imshow(decoded_imgs[i].reshape(28, 28))\n",
    "    plt.title(\"Reconstructed\")\n",
    "    plt.gray()\n",
    "    ax.axis('off')\n",
    "    plt.show()"
   ]
  },
  {
   "cell_type": "code",
   "execution_count": null,
   "id": "eea98677-cf0b-4afe-9ee5-1ac9e78d2173",
   "metadata": {},
   "outputs": [],
   "source": []
  }
 ],
 "metadata": {
  "kernelspec": {
   "display_name": "Python 3 (ipykernel)",
   "language": "python",
   "name": "python3"
  },
  "language_info": {
   "codemirror_mode": {
    "name": "ipython",
    "version": 3
   },
   "file_extension": ".py",
   "mimetype": "text/x-python",
   "name": "python",
   "nbconvert_exporter": "python",
   "pygments_lexer": "ipython3",
   "version": "3.9.0"
  }
 },
 "nbformat": 4,
 "nbformat_minor": 5
}
